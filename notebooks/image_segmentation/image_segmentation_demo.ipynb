{
 "cells": [
  {
   "cell_type": "markdown",
   "metadata": {},
   "source": [
    "## Image segmentation Demo"
   ]
  },
  {
   "cell_type": "code",
   "execution_count": null,
   "metadata": {},
   "outputs": [],
   "source": [
    "import random\n",
    "\n",
    "# data connection\n",
    "import boto3\n",
    "import io\n",
    "\n",
    "# visualization\n",
    "from matplotlib import pyplot as plt\n",
    "\n",
    "# computer vision\n",
    "import mxnet as mx\n",
    "from mxnet import image\n",
    "from mxnet.gluon.data.vision import transforms\n",
    "import gluoncv\n",
    "from gluoncv.data.transforms.presets.segmentation import test_transform"
   ]
  },
  {
   "cell_type": "markdown",
   "metadata": {},
   "source": [
    "### Access Data"
   ]
  },
  {
   "cell_type": "code",
   "execution_count": 1,
   "metadata": {},
   "outputs": [],
   "source": [
    "class DataLakeConnector():\n",
    "    \n",
    "    def __init__(self, access_key_id, secret_access_key, bucket):\n",
    "        \n",
    "        self.access_key_id = access_key_id\n",
    "        self.secret_access_key = secret_access_key\n",
    "        \n",
    "        self.client = self.create_s3_client()\n",
    "        \n",
    "        self.bucket = bucket\n",
    "    \n",
    "    def create_s3_client(self):\n",
    "        return boto3.client(\n",
    "            's3', \n",
    "            aws_access_key_id = self.access_key_id, \n",
    "            aws_secret_access_key = self.secret_access_key\n",
    "        )\n",
    "    \n",
    "    def list_files(self, dir_path):\n",
    "        response = self.client.list_objects_v2(Bucket=self.bucket, Prefix=dir_path)\n",
    "        files = response.get(\"Contents\")\n",
    "        file_paths = [f['Key'] for f in files]\n",
    "        return file_paths\n",
    "    \n",
    "    def download_img(self, img_path):\n",
    "        outfile = io.BytesIO()\n",
    "        self.client.download_fileobj(self.bucket, img_path, outfile)\n",
    "        outfile.seek(0)\n",
    "        img = plt.imread(outfile, 'jpg')\n",
    "        return img"
   ]
  },
  {
   "cell_type": "markdown",
   "metadata": {},
   "source": [
    "##### Connect to Data Lake"
   ]
  },
  {
   "cell_type": "code",
   "execution_count": null,
   "metadata": {},
   "outputs": [],
   "source": [
    "# set keys\n",
    "access_key_id = 'set_key'\n",
    "secret_access_key = 'set_key'"
   ]
  },
  {
   "cell_type": "code",
   "execution_count": null,
   "metadata": {},
   "outputs": [],
   "source": [
    "data_connector = DataLakeConnector(access_key_id, secret_access_key, 'zoetrope-downloads')"
   ]
  },
  {
   "cell_type": "markdown",
   "metadata": {},
   "source": [
    "##### List images"
   ]
  },
  {
   "cell_type": "code",
   "execution_count": null,
   "metadata": {},
   "outputs": [],
   "source": [
    "# for a specific address\n",
    "data_connector.list_files(\"places/9796 Nature Trail Way, Elk Grove, CA 95757, USA/\")"
   ]
  },
  {
   "cell_type": "code",
   "execution_count": null,
   "metadata": {},
   "outputs": [],
   "source": [
    "# all downloaded images\n",
    "all_image_paths = data_connector.list_files(\"\")"
   ]
  },
  {
   "cell_type": "code",
   "execution_count": null,
   "metadata": {},
   "outputs": [],
   "source": [
    "# all New York images\n",
    "ny_images = [ny_image for ny_image in all_image_paths if \"NY\" in ny_image]"
   ]
  },
  {
   "cell_type": "markdown",
   "metadata": {},
   "source": [
    "##### Visualize images"
   ]
  },
  {
   "cell_type": "code",
   "execution_count": null,
   "metadata": {},
   "outputs": [],
   "source": [
    "sample_image = data_connector.download_img(random.choice(list(ny_images)))\n",
    "\n",
    "plt.imshow(sample_image)\n",
    "plt.show()"
   ]
  },
  {
   "cell_type": "markdown",
   "metadata": {},
   "source": [
    "### Perform Image Segmentation"
   ]
  },
  {
   "cell_type": "code",
   "execution_count": null,
   "metadata": {},
   "outputs": [],
   "source": [
    "ctx = mx.cpu(0)"
   ]
  },
  {
   "cell_type": "code",
   "execution_count": null,
   "metadata": {},
   "outputs": [],
   "source": [
    "# chose model for segmentation\n",
    "model = gluoncv.model_zoo.get_model('psp_resnet101_ade', pretrained=True)"
   ]
  },
  {
   "cell_type": "code",
   "execution_count": 2,
   "metadata": {},
   "outputs": [],
   "source": [
    "def segment_image(img, model):\n",
    "    img = mx.nd.array(sample_image)\n",
    "    img = test_transform(img, ctx)\n",
    "    output = model.predict(img)\n",
    "    predict = mx.nd.squeeze(mx.nd.argmax(output, 1)).asnumpy()\n",
    "    mask = get_color_pallete(predict, 'ade20k')\n",
    "    mask.save('output.png')\n",
    "    mmask = mpimg.imread('output.png')\n",
    "    plt.imshow(mmask)\n",
    "    plt.show()"
   ]
  },
  {
   "cell_type": "code",
   "execution_count": null,
   "metadata": {},
   "outputs": [],
   "source": [
    "%%time\n",
    "# show a random a image downloaded via zoetrope\n",
    "sample_image = data_connector.download_img(random.choice(all_image_paths))\n",
    "plt.imshow(sample_image)\n",
    "plt.show()\n",
    "\n",
    "# segment chosen image\n",
    "segment_image(sample_image, model)"
   ]
  },
  {
   "cell_type": "code",
   "execution_count": null,
   "metadata": {},
   "outputs": [],
   "source": []
  },
  {
   "cell_type": "code",
   "execution_count": null,
   "metadata": {},
   "outputs": [],
   "source": []
  },
  {
   "cell_type": "code",
   "execution_count": null,
   "metadata": {},
   "outputs": [],
   "source": []
  }
 ],
 "metadata": {
  "kernelspec": {
   "display_name": "Python 3",
   "language": "python",
   "name": "python3"
  },
  "language_info": {
   "codemirror_mode": {
    "name": "ipython",
    "version": 3
   },
   "file_extension": ".py",
   "mimetype": "text/x-python",
   "name": "python",
   "nbconvert_exporter": "python",
   "pygments_lexer": "ipython3",
   "version": "3.8.5"
  }
 },
 "nbformat": 4,
 "nbformat_minor": 4
}
